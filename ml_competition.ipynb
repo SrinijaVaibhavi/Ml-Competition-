{
  "metadata": {
    "kernelspec": {
      "language": "python",
      "display_name": "Python 3",
      "name": "python3"
    },
    "language_info": {
      "name": "python",
      "version": "3.7.12",
      "mimetype": "text/x-python",
      "codemirror_mode": {
        "name": "ipython",
        "version": 3
      },
      "pygments_lexer": "ipython3",
      "nbconvert_exporter": "python",
      "file_extension": ".py"
    },
    "colab": {
      "provenance": [],
      "include_colab_link": true
    }
  },
  "nbformat_minor": 0,
  "nbformat": 4,
  "cells": [
    {
      "cell_type": "markdown",
      "metadata": {
        "id": "view-in-github",
        "colab_type": "text"
      },
      "source": [
        "<a href=\"https://colab.research.google.com/github/SrinijaVaibhavi/Ml-Competition-/blob/main/ml_competition.ipynb\" target=\"_parent\"><img src=\"https://colab.research.google.com/assets/colab-badge.svg\" alt=\"Open In Colab\"/></a>"
      ]
    },
    {
      "cell_type": "code",
      "source": [
        "import os\n",
        "import gc\n",
        "import random\n",
        "import time\n",
        "import json\n",
        "from tqdm import tqdm\n",
        "import glob\n",
        "import numpy as np\n",
        "import pandas as pd\n",
        "import torch\n",
        "import torch.nn as nn\n",
        "\n",
        "from torch.utils.data import Dataset, DataLoader\n",
        "from torchvision import transforms\n",
        "\n",
        "from sklearn.model_selection import train_test_split, StratifiedGroupKFold\n",
        "from sklearn.metrics import accuracy_score, average_precision_score\n",
        "\n",
        "import warnings\n",
        "warnings.filterwarnings(action='ignore')"
      ],
      "metadata": {
        "_uuid": "8f2839f25d086af736a60e9eeb907d3b93b6e0e5",
        "_cell_guid": "b1076dfc-b9ad-4769-8c92-a6c4dae69d19",
        "execution": {
          "iopub.status.busy": "2023-04-16T22:07:12.357764Z",
          "iopub.execute_input": "2023-04-16T22:07:12.358187Z",
          "iopub.status.idle": "2023-04-16T22:07:15.114592Z",
          "shell.execute_reply.started": "2023-04-16T22:07:12.358131Z",
          "shell.execute_reply": "2023-04-16T22:07:15.113487Z"
        },
        "trusted": true,
        "id": "Bnn9RN0E4eZf"
      },
      "execution_count": null,
      "outputs": []
    },
    {
      "cell_type": "code",
      "source": [
        "class Config:\n",
        "    train_dir1 = \"/kaggle/input/tlvmc-parkinsons-freezing-gait-prediction/train/defog\"\n",
        "    train_dir2 = \"/kaggle/input/tlvmc-parkinsons-freezing-gait-prediction/train/tdcsfog\"\n",
        "\n",
        "    batch_size = 1024\n",
        "    window_size = 32\n",
        "    window_future = 8\n",
        "    window_past = window_size - window_future\n",
        "    \n",
        "    wx = 8\n",
        "    \n",
        "    model_dropout = 0.2\n",
        "    model_hidden = 512\n",
        "    model_nblocks = 3\n",
        "    \n",
        "    lr = 0.00015\n",
        "    num_epochs = 8\n",
        "    device = 'cuda' if torch.cuda.is_available() else 'cpu'\n",
        "    \n",
        "    feature_list = ['AccV', 'AccML', 'AccAP']\n",
        "    label_list = ['StartHesitation', 'Turn', 'Walking']\n",
        "    \n",
        "    \n",
        "cfg = Config()"
      ],
      "metadata": {
        "execution": {
          "iopub.status.busy": "2023-04-16T22:07:15.116905Z",
          "iopub.execute_input": "2023-04-16T22:07:15.117466Z",
          "iopub.status.idle": "2023-04-16T22:07:15.186048Z",
          "shell.execute_reply.started": "2023-04-16T22:07:15.117425Z",
          "shell.execute_reply": "2023-04-16T22:07:15.183839Z"
        },
        "trusted": true,
        "id": "YvL7Cdn54eZj"
      },
      "execution_count": null,
      "outputs": []
    },
    {
      "cell_type": "code",
      "source": [
        "cfg.device"
      ],
      "metadata": {
        "execution": {
          "iopub.status.busy": "2023-04-16T22:07:15.189473Z",
          "iopub.execute_input": "2023-04-16T22:07:15.189847Z",
          "iopub.status.idle": "2023-04-16T22:07:15.208416Z",
          "shell.execute_reply.started": "2023-04-16T22:07:15.189813Z",
          "shell.execute_reply": "2023-04-16T22:07:15.207246Z"
        },
        "trusted": true,
        "id": "8zXpI_tk4eZj",
        "outputId": "5593e74c-20d6-49cd-fe99-213f4ce99dd2"
      },
      "execution_count": null,
      "outputs": [
        {
          "execution_count": 5,
          "output_type": "execute_result",
          "data": {
            "text/plain": "'cuda'"
          },
          "metadata": {}
        }
      ]
    },
    {
      "cell_type": "code",
      "source": [
        "\n",
        "n1 = []\n",
        "n2 = []\n",
        "n3 = []\n",
        "count = []\n",
        "\n",
        "metadata = pd.read_csv(\"/kaggle/input/copy-train-metadata/tdcsfog_metadata.csv\")\n",
        "\n",
        "for f in tqdm(metadata['Id']):\n",
        "    fpath = f\"/kaggle/input/tlvmc-parkinsons-freezing-gait-prediction/train/tdcsfog/{f}.csv\"\n",
        "    df = pd.read_csv(fpath)\n",
        "    \n",
        "    n1.append(np.sum(df['StartHesitation']))\n",
        "    n2.append(np.sum(df['Turn']))\n",
        "    n3.append(np.sum(df['Walking']))\n",
        "    count.append(len(df))\n",
        "    \n",
        "print(f\"32 files have positive values in all 3 classes\")\n",
        "\n",
        "metadata['n1'] = n1\n",
        "metadata['n2'] = n2\n",
        "metadata['n3'] = n3\n",
        "metadata['count'] = count\n",
        "\n",
        "sgkf = StratifiedGroupKFold(n_splits=5, random_state=42, shuffle=True)\n",
        "for i, (train_index, valid_index) in enumerate(sgkf.split(X=metadata['Id'], y=[1]*len(metadata), groups=metadata['Subject'])):\n",
        "    print(f\"Fold = {i}\")\n",
        "    train_ids = metadata.loc[train_index, 'Id']\n",
        "    valid_ids = metadata.loc[valid_index, 'Id']\n",
        "    \n",
        "    print(f\"Length of Train = {len(train_index)}, Length of Valid = {len(valid_index)}\")\n",
        "    n1_sum = metadata.loc[train_index, 'n1'].sum()\n",
        "    n2_sum = metadata.loc[train_index, 'n2'].sum()\n",
        "    n3_sum = metadata.loc[train_index, 'n3'].sum()\n",
        "    print(f\"Train classes: {n1:,}, {n2:,}, {n3:,}\")\n",
        "    \n",
        "    n1_sum = metadata.loc[valid_index, 'n1'].sum()\n",
        "    n2_sum = metadata.loc[valid_index, 'n2'].sum()\n",
        "    n3_sum = metadata.loc[valid_index, 'n3'].sum()\n",
        "    print(f\"Valid classes: {n1:,}, {n2:,}, {n3:,}\")\n",
        "\n",
        "\n",
        "metadata = pd.read_csv(\"/kaggle/input/copy-train-metadata/tdcsfog_metadata.csv\")\n",
        "sgkf = StratifiedGroupKFold(n_splits=5, random_state=42, shuffle=True)\n",
        "for i, (train_index, valid_index) in enumerate(sgkf.split(X=metadata['Id'], y=[1]*len(metadata), groups=metadata['Subject'])):\n",
        "    if i != 2:\n",
        "        continue\n",
        "    print(f\"Fold = {i}\")\n",
        "    train_ids = metadata.loc[train_index, 'Id']\n",
        "    valid_ids = metadata.loc[valid_index, 'Id']\n",
        "    print(f\"Length of Train = {len(train_ids)}, Length of Valid = {len(valid_ids)}\")\n",
        "    \n",
        "    if i == 2:\n",
        "        break\n",
        "        \n",
        "train_fpaths_tdcs = [f\"/kaggle/input/tlvmc-parkinsons-freezing-gait-prediction/train/tdcsfog/{_id}.csv\" for _id in train_ids]\n",
        "valid_fpaths_tdcs = [f\"/kaggle/input/tlvmc-parkinsons-freezing-gait-prediction/train/tdcsfog/{_id}.csv\" for _id in valid_ids]"
      ],
      "metadata": {
        "execution": {
          "iopub.status.busy": "2023-04-16T22:07:15.211770Z",
          "iopub.execute_input": "2023-04-16T22:07:15.212451Z",
          "iopub.status.idle": "2023-04-16T22:07:31.626274Z",
          "shell.execute_reply.started": "2023-04-16T22:07:15.212414Z",
          "shell.execute_reply": "2023-04-16T22:07:31.625123Z"
        },
        "trusted": true,
        "id": "A6s_timZ4eZk",
        "outputId": "d3de4a10-2e7a-47cd-d3ca-b4e14d9817b5"
      },
      "execution_count": null,
      "outputs": [
        {
          "name": "stderr",
          "text": "100%|██████████| 833/833 [00:16<00:00, 51.10it/s]",
          "output_type": "stream"
        },
        {
          "name": "stdout",
          "text": "32 files have positive values in all 3 classes\nFold = 0\nLength of Train = 672, Length of Valid = 161\nTrain classes: 287,832, 1,462,652, 175,633\nValid classes: 16,958, 216,130, 32,205\nFold = 1\nLength of Train = 613, Length of Valid = 220\nTrain classes: 51,748, 909,505, 65,242\nValid classes: 253,042, 769,277, 142,596\nFold = 2\nLength of Train = 703, Length of Valid = 130\nTrain classes: 271,881, 1,332,746, 183,673\nValid classes: 32,909, 346,036, 24,165\nFold = 3\nLength of Train = 649, Length of Valid = 184\nTrain classes: 303,710, 1,517,147, 205,196\nValid classes: 1,080, 161,635, 2,642\nFold = 4\nLength of Train = 695, Length of Valid = 138\nTrain classes: 303,989, 1,493,078, 201,608\nValid classes: 801, 185,704, 6,230\nFold = 2\nLength of Train = 703, Length of Valid = 130\n",
          "output_type": "stream"
        },
        {
          "name": "stderr",
          "text": "\n",
          "output_type": "stream"
        }
      ]
    },
    {
      "cell_type": "code",
      "source": [
        "\n",
        "n1 = []\n",
        "n2 = []\n",
        "n3 = []\n",
        "count = []\n",
        "\n",
        "metadata = pd.read_csv(\"/kaggle/input/copy-train-metadata/defog_metadata.csv\")\n",
        "metadata['n1'] = 0\n",
        "metadata['n2'] = 0\n",
        "metadata['n3'] = 0\n",
        "metadata['count'] = 0\n",
        "\n",
        "for f in tqdm(metadata['Id']):\n",
        "    fpath = f\"/kaggle/input/tlvmc-parkinsons-freezing-gait-prediction/train/defog/{f}.csv\"\n",
        "    if os.path.exists(fpath) == False:\n",
        "        continue\n",
        "        \n",
        "    df = pd.read_csv(fpath)\n",
        "    metadata.loc[metadata['Id'] == f, 'n1'] = np.sum(df['StartHesitation'])\n",
        "    metadata.loc[metadata['Id'] == f, 'n2'] = np.sum(df['Turn'])\n",
        "    metadata.loc[metadata['Id'] == f, 'n3'] = np.sum(df['Walking'])\n",
        "    metadata.loc[metadata['Id'] == f, 'count'] = len(df)\n",
        "    \n",
        "metadata = metadata[metadata['count'] > 0].reset_index()\n",
        "\n",
        "sgkf = StratifiedGroupKFold(n_splits=5, random_state=42, shuffle=True)\n",
        "for i, (train_index, valid_index) in enumerate(sgkf.split(X=metadata['Id'], y=[1]*len(metadata), groups=metadata['Subject'])):\n",
        "    print(f\"Fold = {i}\")\n",
        "    train_ids = metadata.loc[train_index, 'Id']\n",
        "    valid_ids = metadata.loc[valid_index, 'Id']\n",
        "    \n",
        "    print(f\"Length of Train = {len(train_index)}, Length of Valid = {len(valid_index)}\")\n",
        "    n1_sum = metadata.loc[train_index, 'n1_sum'].sum()\n",
        "    n2_sum = metadata.loc[train_index, 'n2_sum'].sum()\n",
        "    n3_sum = metadata.loc[train_index, 'n3_sum'].sum()\n",
        "    print(f\"Train classes: {n1_sum:,}, {n2_sum:,}, {n3_sum:,}\")\n",
        "    \n",
        "    n1_sum = metadata.loc[valid_index, 'n1_sum'].sum()\n",
        "    n2_sum = metadata.loc[valid_index, 'n2_sum'].sum()\n",
        "    n3_sum = metadata.loc[valid_index, 'n3_sum'].sum()\n",
        "    print(f\"Valid classes: {n1_sum:,}, {n2_sum:,}, {n3_sum:,}\")\n",
        "    \n",
        "\n",
        "\n",
        "sgkf = StratifiedGroupKFold(n_splits=5, random_state=42, shuffle=True)\n",
        "for i, (train_index, valid_index) in enumerate(sgkf.split(X=metadata['Id'], y=[1]*len(metadata), groups=metadata['Subject'])):\n",
        "    if i != 1:\n",
        "        continue\n",
        "    print(f\"Fold = {i}\")\n",
        "    train_ids = metadata.loc[train_index, 'Id']\n",
        "    valid_ids = metadata.loc[valid_index, 'Id']\n",
        "    print(f\"Length of Train = {len(train_ids)}, Length of Valid = {len(valid_ids)}\")\n",
        "    \n",
        "    if i == 2:\n",
        "        break\n",
        "        \n",
        "train_fpaths_de = [f\"/kaggle/input/tlvmc-parkinsons-freezing-gait-prediction/train/defog/{_id}.csv\" for _id in train_ids]\n",
        "valid_fpaths_de = [f\"/kaggle/input/tlvmc-parkinsons-freezing-gait-prediction/train/defog/{_id}.csv\" for _id in valid_ids]"
      ],
      "metadata": {
        "execution": {
          "iopub.status.busy": "2023-04-16T22:07:31.628036Z",
          "iopub.execute_input": "2023-04-16T22:07:31.628794Z",
          "iopub.status.idle": "2023-04-16T22:07:53.892875Z",
          "shell.execute_reply.started": "2023-04-16T22:07:31.628754Z",
          "shell.execute_reply": "2023-04-16T22:07:53.891488Z"
        },
        "trusted": true,
        "id": "wagQCq854eZl",
        "outputId": "6071e3dd-5739-4a4f-c7d9-6d451389414c"
      },
      "execution_count": null,
      "outputs": [
        {
          "name": "stderr",
          "text": "100%|██████████| 137/137 [00:22<00:00,  6.18it/s]",
          "output_type": "stream"
        },
        {
          "name": "stdout",
          "text": "Fold = 0\nLength of Train = 75, Length of Valid = 16\nTrain classes: 500, 410,998, 31,612\nValid classes: 0, 157,267, 60,789\nFold = 1\nLength of Train = 65, Length of Valid = 26\nTrain classes: 216, 475,613, 81,579\nValid classes: 284, 92,652, 10,822\nFold = 2\nLength of Train = 76, Length of Valid = 15\nTrain classes: 410, 470,765, 83,170\nValid classes: 90, 97,500, 9,231\nFold = 3\nLength of Train = 70, Length of Valid = 21\nTrain classes: 435, 413,452, 84,247\nValid classes: 65, 154,813, 8,154\nFold = 4\nLength of Train = 78, Length of Valid = 13\nTrain classes: 439, 502,232, 88,996\nValid classes: 61, 66,033, 3,405\nFold = 1\nLength of Train = 65, Length of Valid = 26\n",
          "output_type": "stream"
        },
        {
          "name": "stderr",
          "text": "\n",
          "output_type": "stream"
        }
      ]
    },
    {
      "cell_type": "code",
      "source": [
        "train_fpaths = [(f, 'de') for f in train_fpaths_de] + [(f, 'tdcs') for f in train_fpaths_tdcs]\n",
        "valid_fpaths = [(f, 'de') for f in valid_fpaths_de] + [(f, 'tdcs') for f in valid_fpaths_tdcs]"
      ],
      "metadata": {
        "execution": {
          "iopub.status.busy": "2023-04-16T22:07:53.894807Z",
          "iopub.execute_input": "2023-04-16T22:07:53.895678Z",
          "iopub.status.idle": "2023-04-16T22:07:53.902989Z",
          "shell.execute_reply.started": "2023-04-16T22:07:53.895629Z",
          "shell.execute_reply": "2023-04-16T22:07:53.901512Z"
        },
        "trusted": true,
        "id": "0JEwyySE4eZm"
      },
      "execution_count": null,
      "outputs": []
    },
    {
      "cell_type": "code",
      "source": [
        "class FOGDataset(Dataset):\n",
        "    def __init__(self, fpaths, scale=9.806, split=\"train\"):\n",
        "        super(FOGDataset, self).__init__()\n",
        "        tm = time.time()\n",
        "        self.split = split\n",
        "        self.scale = scale\n",
        "        \n",
        "        self.fpaths = fpaths\n",
        "        self.dfs = [self.read(f[0], f[1]) for f in fpaths]\n",
        "        self.f_ids = [os.path.basename(f[0])[:-4] for f in self.fpaths]\n",
        "        \n",
        "        self.end_indices = []\n",
        "        self.shapes = []\n",
        "        _length = 0\n",
        "        for df in self.dfs:\n",
        "            self.shapes.append(df.shape[0])\n",
        "            _length += df.shape[0]\n",
        "            self.end_indices.append(_length)\n",
        "        \n",
        "        self.dfs = np.concatenate(self.dfs, axis=0).astype(np.float16)\n",
        "        self.length = self.dfs.shape[0]\n",
        "        \n",
        "        shape1 = self.dfs.shape[1]\n",
        "        \n",
        "        self.dfs = np.concatenate([np.zeros((cfg.wx*cfg.window_past, shape1)), self.dfs, np.zeros((cfg.wx*cfg.window_future, shape1))], axis=0)\n",
        "        print(f\"Dataset initialized in {time.time() - tm} secs!\")\n",
        "        gc.collect()\n",
        "        \n",
        "    def read(self, f, _type):\n",
        "        df = pd.read_csv(f)\n",
        "        if self.split == \"test\":\n",
        "            return np.array(df)\n",
        "        \n",
        "        if _type ==\"tdcs\":\n",
        "            df['Valid'] = 1\n",
        "            df['Task'] = 1\n",
        "            df['tdcs'] = 1\n",
        "        else:\n",
        "            df['tdcs'] = 0\n",
        "        \n",
        "        return np.array(df)\n",
        "            \n",
        "    def __getitem__(self, index):\n",
        "        if self.split == \"train\":\n",
        "            row_idx = random.randint(0, self.length-1) + cfg.wx*cfg.window_past\n",
        "        elif self.split == \"test\":\n",
        "            for i,e in enumerate(self.end_indices):\n",
        "                if index >= e:\n",
        "                    continue\n",
        "                df_idx = i\n",
        "                break\n",
        "\n",
        "            row_idx_true = self.shapes[df_idx] - (self.end_indices[df_idx] - index)\n",
        "            _id = self.f_ids[df_idx] + \"_\" + str(row_idx_true)\n",
        "            row_idx = index + cfg.wx*cfg.window_past\n",
        "        else:\n",
        "            row_idx = index + cfg.wx*cfg.window_past\n",
        "            \n",
        "        #scale = 9.806 if self.dfs[row_idx, -1] == 1 else 1.0\n",
        "        x = self.dfs[row_idx - cfg.wx*cfg.window_past : row_idx + cfg.wx*cfg.window_future, 1:4]\n",
        "        x = x[::cfg.wx, :][::-1, :]\n",
        "        x = torch.tensor(x.astype('float'))#/scale\n",
        "        \n",
        "        t = self.dfs[row_idx, -3]*self.dfs[row_idx, -2]\n",
        "        \n",
        "        if self.split == \"test\":\n",
        "            return _id, x, t\n",
        "        \n",
        "        y = self.dfs[row_idx, 4:7].astype('float')\n",
        "        y = torch.tensor(y)\n",
        "        \n",
        "        return x, y, t\n",
        "    \n",
        "    def __len__(self):\n",
        "        # return self.length\n",
        "        if self.split == \"train\":\n",
        "            return 5_000_000\n",
        "        return self.length"
      ],
      "metadata": {
        "execution": {
          "iopub.status.busy": "2023-04-16T22:07:53.905012Z",
          "iopub.execute_input": "2023-04-16T22:07:53.905619Z",
          "iopub.status.idle": "2023-04-16T22:07:53.928386Z",
          "shell.execute_reply.started": "2023-04-16T22:07:53.905547Z",
          "shell.execute_reply": "2023-04-16T22:07:53.927276Z"
        },
        "trusted": true,
        "id": "tcV-I3-g4eZn"
      },
      "execution_count": null,
      "outputs": []
    },
    {
      "cell_type": "code",
      "source": [
        "gc.collect()"
      ],
      "metadata": {
        "execution": {
          "iopub.status.busy": "2023-04-16T22:07:53.930683Z",
          "iopub.execute_input": "2023-04-16T22:07:53.931517Z",
          "iopub.status.idle": "2023-04-16T22:07:54.068990Z",
          "shell.execute_reply.started": "2023-04-16T22:07:53.931474Z",
          "shell.execute_reply": "2023-04-16T22:07:54.067857Z"
        },
        "trusted": true,
        "id": "rwWwXtnD4eZn",
        "outputId": "d97d91bb-092e-48eb-daac-ff0c3be569b6"
      },
      "execution_count": null,
      "outputs": [
        {
          "execution_count": 10,
          "output_type": "execute_result",
          "data": {
            "text/plain": "23"
          },
          "metadata": {}
        }
      ]
    },
    {
      "cell_type": "code",
      "source": [
        "def _block(in_features, out_features, drop_rate):\n",
        "    return nn.Sequential(\n",
        "        nn.Linear(in_features, out_features),\n",
        "        nn.BatchNorm1d(out_features),\n",
        "        nn.ReLU(),\n",
        "        nn.Dropout(drop_rate)\n",
        "    )\n",
        "\n",
        "class FOGModel(nn.Module):\n",
        "    def __init__(self, p=cfg.model_dropout, dim=cfg.model_hidden, nblocks=cfg.model_nblocks):\n",
        "        super(FOGModel, self).__init__()\n",
        "        self.dropout = nn.Dropout(p)\n",
        "        self.in_layer = nn.Linear(cfg.window_size*3, dim)\n",
        "        self.blocks = nn.Sequential(*[_block(dim, dim, p) for _ in range(nblocks)])\n",
        "        self.out_layer = nn.Linear(dim, 3)\n",
        "        \n",
        "    def forward(self, x):\n",
        "        x = x.view(-1, cfg.window_size*3)\n",
        "        x = self.in_layer(x)\n",
        "        for block in self.blocks:\n",
        "            x = block(x)\n",
        "        x = self.out_layer(x)\n",
        "        return x"
      ],
      "metadata": {
        "execution": {
          "iopub.status.busy": "2023-04-16T22:07:54.071205Z",
          "iopub.execute_input": "2023-04-16T22:07:54.071606Z",
          "iopub.status.idle": "2023-04-16T22:07:54.083001Z",
          "shell.execute_reply.started": "2023-04-16T22:07:54.071552Z",
          "shell.execute_reply": "2023-04-16T22:07:54.081859Z"
        },
        "trusted": true,
        "id": "l0ghGn-94eZo"
      },
      "execution_count": null,
      "outputs": []
    },
    {
      "cell_type": "code",
      "source": [
        "def count_parameters(model):\n",
        "    return sum(p.numel() for p in model.parameters() if p.requires_grad)"
      ],
      "metadata": {
        "execution": {
          "iopub.status.busy": "2023-04-16T22:07:54.087587Z",
          "iopub.execute_input": "2023-04-16T22:07:54.087917Z",
          "iopub.status.idle": "2023-04-16T22:07:54.095030Z",
          "shell.execute_reply.started": "2023-04-16T22:07:54.087858Z",
          "shell.execute_reply": "2023-04-16T22:07:54.094035Z"
        },
        "trusted": true,
        "id": "wzpFcDXt4eZo"
      },
      "execution_count": null,
      "outputs": []
    },
    {
      "cell_type": "code",
      "source": [
        "from torch.cuda.amp import GradScaler\n",
        "\n",
        "def train_one_epoch(model, loader, optimizer, criterion):\n",
        "    loss_sum = 0.\n",
        "    scaler = GradScaler()\n",
        "    \n",
        "    model.train()\n",
        "    for x,y,t in tqdm(loader):\n",
        "        x = x.to(cfg.device).float()\n",
        "        y = y.to(cfg.device).float()\n",
        "        t = t.to(cfg.device).float()\n",
        "        \n",
        "        y_pred = model(x)\n",
        "        loss = criterion(y_pred, y)\n",
        "        loss = torch.mean(loss*t.unsqueeze(-1), dim=1)\n",
        "        \n",
        "        t_sum = torch.sum(t)\n",
        "        if t_sum > 0:\n",
        "            loss = torch.sum(loss)/t_sum\n",
        "        else:\n",
        "            loss = torch.sum(loss)*0.\n",
        "        \n",
        "        # loss.backward()\n",
        "        scaler.scale(loss).backward()\n",
        "        # optimizer.step()\n",
        "        scaler.step(optimizer)\n",
        "        scaler.update()\n",
        "        \n",
        "        optimizer.zero_grad()\n",
        "        \n",
        "        loss_sum += loss.item()\n",
        "    \n",
        "    print(f\"Train Loss: {(loss_sum/len(loader)):.04f}\")\n",
        "    \n",
        "\n",
        "def validation_one_epoch(model, loader, criterion):\n",
        "    loss_sum = 0.\n",
        "    y_true_epoch = []\n",
        "    y_pred_epoch = []\n",
        "    t_valid_epoch = []\n",
        "    \n",
        "    model.eval()\n",
        "    for x,y,t in tqdm(loader):\n",
        "        x = x.to(cfg.device).float()\n",
        "        y = y.to(cfg.device).float()\n",
        "        t = t.to(cfg.device).float()\n",
        "        \n",
        "        with torch.no_grad():\n",
        "            y_pred = model(x)\n",
        "            loss = criterion(y_pred, y)\n",
        "            loss = torch.mean(loss*t.unsqueeze(-1), dim=1)\n",
        "            \n",
        "            t_sum = torch.sum(t)\n",
        "            if t_sum > 0:\n",
        "                loss = torch.sum(loss)/t_sum\n",
        "            else:\n",
        "                loss = torch.sum(loss)*0.\n",
        "        \n",
        "        loss_sum += loss.item()\n",
        "        y_true_epoch.append(y.cpu().numpy())\n",
        "        y_pred_epoch.append(y_pred.cpu().numpy())\n",
        "        t_valid_epoch.append(t.cpu().numpy())\n",
        "        \n",
        "    y_true_epoch = np.concatenate(y_true_epoch, axis=0)\n",
        "    y_pred_epoch = np.concatenate(y_pred_epoch, axis=0)\n",
        "    \n",
        "    t_valid_epoch = np.concatenate(t_valid_epoch, axis=0)\n",
        "    y_true_epoch = y_true_epoch[t_valid_epoch > 0, :]\n",
        "    y_pred_epoch = y_pred_epoch[t_valid_epoch > 0, :]\n",
        "    \n",
        "    scores = [average_precision_score(y_true_epoch[:,i], y_pred_epoch[:,i]) for i in range(3)]\n",
        "    mean_score = np.mean(scores)\n",
        "    print(f\"Validation Loss: {(loss_sum/len(loader)):.04f}, Validation Score: {mean_score:.03f}, ClassWise: {scores[0]:.03f},{scores[1]:.03f},{scores[2]:.03f}\")\n",
        "    \n",
        "    return mean_score"
      ],
      "metadata": {
        "execution": {
          "iopub.status.busy": "2023-04-16T22:07:54.096374Z",
          "iopub.execute_input": "2023-04-16T22:07:54.097943Z",
          "iopub.status.idle": "2023-04-16T22:07:54.114715Z",
          "shell.execute_reply.started": "2023-04-16T22:07:54.097904Z",
          "shell.execute_reply": "2023-04-16T22:07:54.113494Z"
        },
        "trusted": true,
        "id": "A6K8ozpw4eZp"
      },
      "execution_count": null,
      "outputs": []
    },
    {
      "cell_type": "code",
      "source": [
        "model = FOGModel().to(cfg.device)\n",
        "print(f\"Number of parameters in model - {count_parameters(model):,}\")\n",
        "\n",
        "train_dataset = FOGDataset(train_fpaths, split=\"train\")\n",
        "valid_dataset = FOGDataset(valid_fpaths, split=\"valid\")\n",
        "print(f\"lengths of datasets: train - {len(train_dataset)}, valid - {len(valid_dataset)}\")\n",
        "\n",
        "train_loader = DataLoader(train_dataset, batch_size=cfg.batch_size, num_workers=5, shuffle=True)\n",
        "valid_loader = DataLoader(valid_dataset, batch_size=cfg.batch_size, num_workers=5)\n",
        "\n",
        "optimizer = torch.optim.Adam(model.parameters(), lr=cfg.lr)\n",
        "criterion = torch.nn.BCEWithLogitsLoss(reduction='none').to(cfg.device)\n",
        "# sched = torch.optim.lr_scheduler.StepLR(optimizer, step_size=1, gamma=0.85)\n",
        "\n",
        "max_score = 0.0\n",
        "\n",
        "print(\"=\"*50)\n",
        "for epoch in range(cfg.num_epochs):\n",
        "    print(f\"Epoch: {epoch}\")\n",
        "    train_one_epoch(model, train_loader, optimizer, criterion)\n",
        "    score = validation_one_epoch(model, valid_loader, criterion)\n",
        "    # sched.step()\n",
        "\n",
        "    if score > max_score:\n",
        "        max_score = score\n",
        "        torch.save(model.state_dict(), \"best_model_state.h5\")\n",
        "        print(\"Saving Model ...\")\n",
        "\n",
        "    print(\"=\"*50)\n",
        "    \n",
        "gc.collect()"
      ],
      "metadata": {
        "execution": {
          "iopub.status.busy": "2023-04-16T22:07:54.116616Z",
          "iopub.execute_input": "2023-04-16T22:07:54.117034Z",
          "iopub.status.idle": "2023-04-16T22:44:15.623379Z",
          "shell.execute_reply.started": "2023-04-16T22:07:54.116995Z",
          "shell.execute_reply": "2023-04-16T22:44:15.622120Z"
        },
        "trusted": true,
        "id": "ExGoRfsT4eZp",
        "outputId": "186c0718-59df-428f-9107-f61f5c40ef73"
      },
      "execution_count": null,
      "outputs": [
        {
          "name": "stdout",
          "text": "Number of parameters in model - 842,243\nDataset initialized in 28.17720866203308 secs!\nDataset initialized in 8.077937126159668 secs!\nlengths of datasets: train - 5000000, valid - 4984740\n==================================================\nEpoch: 0\n",
          "output_type": "stream"
        },
        {
          "name": "stderr",
          "text": "100%|██████████| 4883/4883 [02:32<00:00, 31.95it/s]\n",
          "output_type": "stream"
        },
        {
          "name": "stdout",
          "text": "Train Loss: 0.1687\n",
          "output_type": "stream"
        },
        {
          "name": "stderr",
          "text": "100%|██████████| 4868/4868 [02:02<00:00, 39.75it/s]\n",
          "output_type": "stream"
        },
        {
          "name": "stdout",
          "text": "Validation Loss: 0.0725, Validation Score: 0.250, ClassWise: 0.043,0.687,0.020\nSaving Model ...\n==================================================\nEpoch: 1\n",
          "output_type": "stream"
        },
        {
          "name": "stderr",
          "text": "100%|██████████| 4883/4883 [02:26<00:00, 33.41it/s]\n",
          "output_type": "stream"
        },
        {
          "name": "stdout",
          "text": "Train Loss: 0.1478\n",
          "output_type": "stream"
        },
        {
          "name": "stderr",
          "text": "100%|██████████| 4868/4868 [01:59<00:00, 40.89it/s]\n",
          "output_type": "stream"
        },
        {
          "name": "stdout",
          "text": "Validation Loss: 0.0743, Validation Score: 0.245, ClassWise: 0.049,0.665,0.020\n==================================================\nEpoch: 2\n",
          "output_type": "stream"
        },
        {
          "name": "stderr",
          "text": "100%|██████████| 4883/4883 [02:26<00:00, 33.28it/s]\n",
          "output_type": "stream"
        },
        {
          "name": "stdout",
          "text": "Train Loss: 0.1404\n",
          "output_type": "stream"
        },
        {
          "name": "stderr",
          "text": "100%|██████████| 4868/4868 [01:56<00:00, 41.67it/s]\n",
          "output_type": "stream"
        },
        {
          "name": "stdout",
          "text": "Validation Loss: 0.0798, Validation Score: 0.239, ClassWise: 0.041,0.654,0.023\n==================================================\nEpoch: 3\n",
          "output_type": "stream"
        },
        {
          "name": "stderr",
          "text": "100%|██████████| 4883/4883 [02:22<00:00, 34.19it/s]\n",
          "output_type": "stream"
        },
        {
          "name": "stdout",
          "text": "Train Loss: 0.1348\n",
          "output_type": "stream"
        },
        {
          "name": "stderr",
          "text": "100%|██████████| 4868/4868 [01:56<00:00, 41.65it/s]\n",
          "output_type": "stream"
        },
        {
          "name": "stdout",
          "text": "Validation Loss: 0.0845, Validation Score: 0.237, ClassWise: 0.037,0.643,0.030\n==================================================\nEpoch: 4\n",
          "output_type": "stream"
        },
        {
          "name": "stderr",
          "text": "100%|██████████| 4883/4883 [02:26<00:00, 33.30it/s]\n",
          "output_type": "stream"
        },
        {
          "name": "stdout",
          "text": "Train Loss: 0.1311\n",
          "output_type": "stream"
        },
        {
          "name": "stderr",
          "text": "100%|██████████| 4868/4868 [01:57<00:00, 41.38it/s]\n",
          "output_type": "stream"
        },
        {
          "name": "stdout",
          "text": "Validation Loss: 0.0864, Validation Score: 0.230, ClassWise: 0.041,0.619,0.031\n==================================================\nEpoch: 5\n",
          "output_type": "stream"
        },
        {
          "name": "stderr",
          "text": "100%|██████████| 4883/4883 [02:27<00:00, 33.08it/s]\n",
          "output_type": "stream"
        },
        {
          "name": "stdout",
          "text": "Train Loss: 0.1276\n",
          "output_type": "stream"
        },
        {
          "name": "stderr",
          "text": "100%|██████████| 4868/4868 [01:59<00:00, 40.61it/s]\n",
          "output_type": "stream"
        },
        {
          "name": "stdout",
          "text": "Validation Loss: 0.0794, Validation Score: 0.249, ClassWise: 0.044,0.666,0.038\n==================================================\nEpoch: 6\n",
          "output_type": "stream"
        },
        {
          "name": "stderr",
          "text": "100%|██████████| 4883/4883 [02:28<00:00, 32.98it/s]\n",
          "output_type": "stream"
        },
        {
          "name": "stdout",
          "text": "Train Loss: 0.1253\n",
          "output_type": "stream"
        },
        {
          "name": "stderr",
          "text": "100%|██████████| 4868/4868 [01:59<00:00, 40.88it/s]\n",
          "output_type": "stream"
        },
        {
          "name": "stdout",
          "text": "Validation Loss: 0.0855, Validation Score: 0.248, ClassWise: 0.038,0.668,0.039\n==================================================\nEpoch: 7\n",
          "output_type": "stream"
        },
        {
          "name": "stderr",
          "text": "100%|██████████| 4883/4883 [02:25<00:00, 33.56it/s]\n",
          "output_type": "stream"
        },
        {
          "name": "stdout",
          "text": "Train Loss: 0.1228\n",
          "output_type": "stream"
        },
        {
          "name": "stderr",
          "text": "100%|██████████| 4868/4868 [01:57<00:00, 41.56it/s]\n",
          "output_type": "stream"
        },
        {
          "name": "stdout",
          "text": "Validation Loss: 0.0855, Validation Score: 0.246, ClassWise: 0.041,0.659,0.038\n==================================================\n",
          "output_type": "stream"
        },
        {
          "execution_count": 14,
          "output_type": "execute_result",
          "data": {
            "text/plain": "0"
          },
          "metadata": {}
        }
      ]
    },
    {
      "cell_type": "code",
      "source": [
        "test_defog_paths = glob.glob(\"/kaggle/input/tlvmc-parkinsons-freezing-gait-prediction/test/defog/*.csv\")\n",
        "test_tdcsfog_paths = glob.glob(\"/kaggle/input/tlvmc-parkinsons-freezing-gait-prediction/test/tdcsfog/*.csv\")\n",
        "test_fpaths = [(f, 'de') for f in test_defog_paths] + [(f, 'tdcs') for f in test_tdcsfog_paths]\n",
        "\n",
        "test_dataset = FOGDataset(test_fpaths, split=\"test\")\n",
        "test_loader = DataLoader(test_dataset, batch_size=cfg.batch_size, num_workers=5)\n",
        "\n",
        "ids = []\n",
        "preds = []\n",
        "\n",
        "for _id, x, _ in tqdm(test_loader):\n",
        "    x = x.to(cfg.device).float()\n",
        "    with torch.no_grad():\n",
        "        y_pred = model(x)*0.1\n",
        "    \n",
        "    ids.extend(_id)\n",
        "    preds.extend(list(np.nan_to_num(y_pred.cpu().numpy())))"
      ],
      "metadata": {
        "execution": {
          "iopub.status.busy": "2023-04-16T22:44:15.625216Z",
          "iopub.execute_input": "2023-04-16T22:44:15.626092Z",
          "iopub.status.idle": "2023-04-16T22:44:21.183086Z",
          "shell.execute_reply.started": "2023-04-16T22:44:15.626050Z",
          "shell.execute_reply": "2023-04-16T22:44:21.181774Z"
        },
        "trusted": true,
        "id": "kSGISpSs4eZq",
        "outputId": "61713423-2092-460b-b702-ed60845ba5e4"
      },
      "execution_count": null,
      "outputs": [
        {
          "name": "stdout",
          "text": "Dataset initialized in 0.3825681209564209 secs!\n",
          "output_type": "stream"
        },
        {
          "name": "stderr",
          "text": "100%|██████████| 280/280 [00:04<00:00, 56.07it/s]\n",
          "output_type": "stream"
        }
      ]
    },
    {
      "cell_type": "code",
      "source": [
        "sample_submission = pd.read_csv(\"/kaggle/input/tlvmc-parkinsons-freezing-gait-prediction/sample_submission.csv\")\n",
        "sample_submission.shape"
      ],
      "metadata": {
        "execution": {
          "iopub.status.busy": "2023-04-16T22:44:21.185221Z",
          "iopub.execute_input": "2023-04-16T22:44:21.185637Z",
          "iopub.status.idle": "2023-04-16T22:44:21.419043Z",
          "shell.execute_reply.started": "2023-04-16T22:44:21.185591Z",
          "shell.execute_reply": "2023-04-16T22:44:21.417975Z"
        },
        "trusted": true,
        "id": "1M1-4oIb4eZq",
        "outputId": "0f05fe2d-3c77-4b18-e413-aa69ad1dafb3"
      },
      "execution_count": null,
      "outputs": [
        {
          "execution_count": 16,
          "output_type": "execute_result",
          "data": {
            "text/plain": "(286370, 4)"
          },
          "metadata": {}
        }
      ]
    },
    {
      "cell_type": "code",
      "source": [
        "preds = np.array(preds)\n",
        "submission = pd.DataFrame({'Id': ids, 'StartHesitation': np.round(preds[:,0],5), \\\n",
        "                           'Turn': np.round(preds[:,1],5), 'Walking': np.round(preds[:,2],5)})\n",
        "\n",
        "submission = pd.merge(sample_submission[['Id']], submission, how='left', on='Id').fillna(0.0)\n",
        "submission.to_csv(\"submission.csv\", index=False)"
      ],
      "metadata": {
        "execution": {
          "iopub.status.busy": "2023-04-16T22:44:21.420796Z",
          "iopub.execute_input": "2023-04-16T22:44:21.421166Z",
          "iopub.status.idle": "2023-04-16T22:44:22.479519Z",
          "shell.execute_reply.started": "2023-04-16T22:44:21.421129Z",
          "shell.execute_reply": "2023-04-16T22:44:22.478508Z"
        },
        "trusted": true,
        "id": "HMlVl_8c4eZq"
      },
      "execution_count": null,
      "outputs": []
    },
    {
      "cell_type": "code",
      "source": [
        "print(submission.shape)\n",
        "submission.head()"
      ],
      "metadata": {
        "execution": {
          "iopub.status.busy": "2023-04-16T22:44:22.480942Z",
          "iopub.execute_input": "2023-04-16T22:44:22.481745Z",
          "iopub.status.idle": "2023-04-16T22:44:22.499303Z",
          "shell.execute_reply.started": "2023-04-16T22:44:22.481705Z",
          "shell.execute_reply": "2023-04-16T22:44:22.498255Z"
        },
        "trusted": true,
        "id": "X2Rh08bj4eZr",
        "outputId": "6e66c0bd-4797-4377-b93d-6fa422ca398d"
      },
      "execution_count": null,
      "outputs": [
        {
          "name": "stdout",
          "text": "(286370, 4)\n",
          "output_type": "stream"
        },
        {
          "execution_count": 18,
          "output_type": "execute_result",
          "data": {
            "text/plain": "             Id  StartHesitation     Turn  Walking\n0  003f117e14_0         -0.91815 -0.54727 -1.06585\n1  003f117e14_1         -0.91950 -0.54821 -1.06673\n2  003f117e14_2         -0.91899 -0.54748 -1.06575\n3  003f117e14_3         -0.91789 -0.54692 -1.06471\n4  003f117e14_4         -0.91827 -0.54712 -1.06538",
            "text/html": "<div>\n<style scoped>\n    .dataframe tbody tr th:only-of-type {\n        vertical-align: middle;\n    }\n\n    .dataframe tbody tr th {\n        vertical-align: top;\n    }\n\n    .dataframe thead th {\n        text-align: right;\n    }\n</style>\n<table border=\"1\" class=\"dataframe\">\n  <thead>\n    <tr style=\"text-align: right;\">\n      <th></th>\n      <th>Id</th>\n      <th>StartHesitation</th>\n      <th>Turn</th>\n      <th>Walking</th>\n    </tr>\n  </thead>\n  <tbody>\n    <tr>\n      <th>0</th>\n      <td>003f117e14_0</td>\n      <td>-0.91815</td>\n      <td>-0.54727</td>\n      <td>-1.06585</td>\n    </tr>\n    <tr>\n      <th>1</th>\n      <td>003f117e14_1</td>\n      <td>-0.91950</td>\n      <td>-0.54821</td>\n      <td>-1.06673</td>\n    </tr>\n    <tr>\n      <th>2</th>\n      <td>003f117e14_2</td>\n      <td>-0.91899</td>\n      <td>-0.54748</td>\n      <td>-1.06575</td>\n    </tr>\n    <tr>\n      <th>3</th>\n      <td>003f117e14_3</td>\n      <td>-0.91789</td>\n      <td>-0.54692</td>\n      <td>-1.06471</td>\n    </tr>\n    <tr>\n      <th>4</th>\n      <td>003f117e14_4</td>\n      <td>-0.91827</td>\n      <td>-0.54712</td>\n      <td>-1.06538</td>\n    </tr>\n  </tbody>\n</table>\n</div>"
          },
          "metadata": {}
        }
      ]
    },
    {
      "cell_type": "code",
      "source": [],
      "metadata": {
        "id": "qf5q9G2p4eZr"
      },
      "execution_count": null,
      "outputs": []
    }
  ]
}